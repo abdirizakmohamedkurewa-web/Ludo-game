{
 "cells": [
  {
   "cell_type": "markdown",
   "metadata": {},
   "source": [
    "# Run Ludo with Pygame in Google Colab\n",
    "\n",
    "Welcome! This notebook allows you to run the graphical (Pygame) version of the Ludo game directly in your browser through Google Colab.\n",
    "\n",
    "### How It Works\n",
    "Because Colab is a cloud environment without a screen, we need to create a *virtual* display. This notebook will:\n",
    "1.  **Install Dependencies**: Set up all necessary system and Python packages (like Pygame).\n",
    "2.  **Run a Virtual Display (VNC)**: Start a virtual desktop that you can connect to from your browser.\n",
    "\n",
    "---"
   ]
  },
  {
   "cell_type": "markdown",
   "metadata": {},
   "source": [
    "## Step 1: Install Dependencies\n",
    "\n",
    "This cell installs all the required packages. It might take a minute or two to complete."
   ]
  },
  {
   "cell_type": "code",
   "execution_count": null,
   "metadata": {},
   "outputs": [],
   "source": [
    "# Install Linux packages for virtual display and window management\n",
    "!apt-get update > /dev/null 2>&1\n",
    "!apt-get install -y xvfb x11vnc python3-opengl fluxbox > /dev/null 2>&1\n",
    "\n",
    "# Install Python packages\n",
    "!pip install -r requirements.txt > /dev/null 2>&1\n",
    "!pip install pyvirtualdisplay pyngrok > /dev/null 2>&1"
   ]
  },
  {
   "cell_type": "markdown",
   "metadata": {},
   "source": [
    "## Step 2: Launch the Game!\n",
    "\n",
    "This final cell starts the virtual display and the Ludo game. It uses `ngrok` to create a secure link for you to access the game.\n",
    "\n",
    "**Instructions:**\n",
    "1.  **Get an ngrok Authtoken**: Go to [https://dashboard.ngrok.com/get-started/your-authtoken](https://dashboard.ngrok.com/get-started/your-authtoken) and copy your token. You only need to do this once.\n",
    "2.  **Run the cell below**: Paste your authtoken into the input box that appears.\n",
    "3.  **Click the Link**: After a moment, a public `ngrok.io` link will be printed. Click it to open the virtual desktop.\n",
    "4.  **Enter Password**: The VNC password is `ludo`.\n",
    "5.  **Play**: The Ludo game window should appear automatically. If not, you can start it from the terminal inside the VNC desktop (`python -m apps.gui.pygame_app`)."
   ]
  },
  {
   "cell_type": "code",
   "execution_count": null,
   "metadata": {
    "colab_type": "code",
    "colab": {
     "base_uri": "https://localhost:8080/",
     "height": 1000
    },
    "id": "launch_game"
   },
   "outputs": [],
   "source": [
    "#@title 🚀 Launch the Game!\n",
    "#@markdown ### Enter your ngrok Authtoken\n",
    "#@markdown You can get a free token from [https://dashboard.ngrok.com/get-started/your-authtoken](https://dashboard.ngrok.com/get-started/your-authtoken)\n",
    "NGROK_AUTH_TOKEN = \"\" #@param {type:\"string\"}\n",
    "\n",
    "import os\n",
    "import subprocess\n",
    "import time\n",
    "from pyvirtualdisplay import Display\n",
    "from pyngrok import ngrok\n",
    "\n",
    "if not NGROK_AUTH_TOKEN:\n",
    "  print(\"Error: Please enter your ngrok authtoken.\")\n",
    "else:\n",
    "  # --- Setup ---\n",
    "  os.environ['NGROK_AUTH_TOKEN'] = NGROK_AUTH_TOKEN\n",
    "  ngrok.set_auth_token(NGROK_AUTH_TOKEN)\n",
    "\n",
    "  # Start virtual display\n",
    "  display = Display(visible=0, size=(1024, 768))\n",
    "  display.start()\n",
    "\n",
    "  # VNC password setup\n",
    "  password = 'ludo'\n",
    "  vnc_dir = os.path.expanduser('~/.vnc')\n",
    "  os.makedirs(vnc_dir, exist_ok=True)\n",
    "  subprocess.run(f\"x11vnc -storepasswd {password} {os.path.join(vnc_dir, 'passwd')}\", shell=True, check=True, capture_output=True)\n",
    "\n",
    "  # Launch VNC server\n",
    "  vnc_command = f'x11vnc -display {display.display} -forever -rfbauth {os.path.join(vnc_dir, \"passwd\")} -create -rfbport 5900 -bg'\n",
    "  subprocess.Popen(vnc_command, shell=True)\n",
    "  time.sleep(2)\n",
    "\n",
    "  # Launch noVNC client\n",
    "  novnc_command = '/usr/share/novnc/utils/launch.sh --vnc localhost:5900 --listen 6080'\n",
    "  subprocess.Popen(novnc_command, shell=True)\n",
    "  time.sleep(2)\n",
    "\n",
    "  # --- Create ngrok tunnel ---\n",
    "  try:\n",
    "    ngrok.kill()\n",
    "    public_url = ngrok.connect(6080, \"http\")\n",
    "    print(f\"✅ VNC connection is live!\")\n",
    "    print(f\"👉 Click this link to open the virtual desktop: {public_url}\")\n",
    "    print(f\"🔑 VNC Password: {password}\")\n",
    "\n",
    "    # --- Launch the Game ---\n",
    "    game_command = 'python -m apps.gui.pygame_app'\n",
    "    subprocess.Popen(\n",
    "        game_command,\n",
    "        shell=True,\n",
    "        env=dict(os.environ, DISPLAY=display.display)\n",
    "    )\n",
    "    print(\"\\n🚀 The Ludo game should now be running inside the virtual desktop.\")\n",
    "    print(\"\\nℹ️ If the game window doesn't appear, you can open a terminal in the VNC desktop (right-click -> Terminal) and run the command `python -m apps.gui.pygame_app`\")\n",
    "    print(\"\\n🛑 To stop the game and the server, interrupt or stop this Colab cell.\")\n",
    "\n",
    "  except Exception as e:\n",
    "    print(f\"An error occurred: {e}\")\n",
    "    print(\"This might be due to an invalid ngrok authtoken or a network issue.\")\n",
    "    print(\"Please check your token and try running the cell again.\")"
   ]
  }
 ],
 "metadata": {
  "colab": {
   "provenance": []
  },
  "kernelspec": {
   "display_name": "Python 3",
   "name": "python3"
  },
  "language_info": {
   "name": "python"
  }
 },
 "nbformat": 4,
 "nbformat_minor": 5
}